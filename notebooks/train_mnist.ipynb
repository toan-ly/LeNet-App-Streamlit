{
 "cells": [
  {
   "cell_type": "markdown",
   "metadata": {
    "id": "6hpYzi7xi-SA"
   },
   "source": [
    "## Import required libraries"
   ]
  },
  {
   "cell_type": "code",
   "execution_count": null,
   "metadata": {
    "id": "BbpM6QOoi2lH"
   },
   "outputs": [],
   "source": [
    "import os\n",
    "import random\n",
    "import numpy as np\n",
    "import time\n",
    "\n",
    "import torch\n",
    "import torch.nn as nn\n",
    "import torch.optim as optim\n",
    "import torch.nn.functional as F\n",
    "from torch.utils.data import Dataset, DataLoader, random_split\n",
    "\n",
    "import torchvision.transforms as transforms\n",
    "import torchvision.datasets as datasets\n",
    "\n",
    "from torchsummary import summary\n",
    "\n",
    "from tqdm import tqdm\n",
    "\n",
    "import matplotlib.pyplot as plt\n",
    "from PIL import Image"
   ]
  },
  {
   "cell_type": "code",
   "execution_count": 15,
   "metadata": {
    "colab": {
     "base_uri": "https://localhost:8080/"
    },
    "id": "Py-TO-VfszkO",
    "outputId": "c43c2af5-dbc7-4661-d7b4-93e70384fb0a"
   },
   "outputs": [
    {
     "name": "stdout",
     "output_type": "stream",
     "text": [
      "mkdir: cannot create directory ‘model’: File exists\n"
     ]
    }
   ],
   "source": [
    "!mkdir model"
   ]
  },
  {
   "cell_type": "code",
   "execution_count": 16,
   "metadata": {
    "id": "hBKiIEeHHsA4"
   },
   "outputs": [],
   "source": [
    "SEED = 42\n",
    "\n",
    "random.seed(SEED)\n",
    "np.random.seed(SEED)\n",
    "torch.manual_seed(SEED)\n",
    "torch.cuda.manual_seed(SEED)\n",
    "torch.backends.cudnn.deterministic = True"
   ]
  },
  {
   "cell_type": "markdown",
   "metadata": {
    "id": "E7pi_eaYjdkD"
   },
   "source": [
    "## Load dataset"
   ]
  },
  {
   "cell_type": "code",
   "execution_count": 2,
   "metadata": {
    "colab": {
     "base_uri": "https://localhost:8080/"
    },
    "id": "AbQfWEz7i6ni",
    "outputId": "08d834ac-b907-4c9a-dfcc-6c8fb2743996"
   },
   "outputs": [
    {
     "name": "stdout",
     "output_type": "stream",
     "text": [
      "Downloading http://yann.lecun.com/exdb/mnist/train-images-idx3-ubyte.gz\n",
      "Failed to download (trying next):\n",
      "HTTP Error 403: Forbidden\n",
      "\n",
      "Downloading https://ossci-datasets.s3.amazonaws.com/mnist/train-images-idx3-ubyte.gz\n",
      "Downloading https://ossci-datasets.s3.amazonaws.com/mnist/train-images-idx3-ubyte.gz to ./data/MNIST/raw/train-images-idx3-ubyte.gz\n"
     ]
    },
    {
     "name": "stderr",
     "output_type": "stream",
     "text": [
      "100%|██████████| 9912422/9912422 [00:00<00:00, 21455330.97it/s]\n"
     ]
    },
    {
     "name": "stdout",
     "output_type": "stream",
     "text": [
      "Extracting ./data/MNIST/raw/train-images-idx3-ubyte.gz to ./data/MNIST/raw\n",
      "\n",
      "Downloading http://yann.lecun.com/exdb/mnist/train-labels-idx1-ubyte.gz\n",
      "Failed to download (trying next):\n",
      "HTTP Error 403: Forbidden\n",
      "\n",
      "Downloading https://ossci-datasets.s3.amazonaws.com/mnist/train-labels-idx1-ubyte.gz\n",
      "Downloading https://ossci-datasets.s3.amazonaws.com/mnist/train-labels-idx1-ubyte.gz to ./data/MNIST/raw/train-labels-idx1-ubyte.gz\n"
     ]
    },
    {
     "name": "stderr",
     "output_type": "stream",
     "text": [
      "100%|██████████| 28881/28881 [00:00<00:00, 996616.07it/s]"
     ]
    },
    {
     "name": "stdout",
     "output_type": "stream",
     "text": [
      "Extracting ./data/MNIST/raw/train-labels-idx1-ubyte.gz to ./data/MNIST/raw\n",
      "\n",
      "Downloading http://yann.lecun.com/exdb/mnist/t10k-images-idx3-ubyte.gz\n"
     ]
    },
    {
     "name": "stderr",
     "output_type": "stream",
     "text": [
      "\n"
     ]
    },
    {
     "name": "stdout",
     "output_type": "stream",
     "text": [
      "Failed to download (trying next):\n",
      "HTTP Error 403: Forbidden\n",
      "\n",
      "Downloading https://ossci-datasets.s3.amazonaws.com/mnist/t10k-images-idx3-ubyte.gz\n",
      "Downloading https://ossci-datasets.s3.amazonaws.com/mnist/t10k-images-idx3-ubyte.gz to ./data/MNIST/raw/t10k-images-idx3-ubyte.gz\n"
     ]
    },
    {
     "name": "stderr",
     "output_type": "stream",
     "text": [
      "100%|██████████| 1648877/1648877 [00:00<00:00, 9664721.95it/s]\n"
     ]
    },
    {
     "name": "stdout",
     "output_type": "stream",
     "text": [
      "Extracting ./data/MNIST/raw/t10k-images-idx3-ubyte.gz to ./data/MNIST/raw\n",
      "\n",
      "Downloading http://yann.lecun.com/exdb/mnist/t10k-labels-idx1-ubyte.gz\n",
      "Failed to download (trying next):\n",
      "HTTP Error 403: Forbidden\n",
      "\n",
      "Downloading https://ossci-datasets.s3.amazonaws.com/mnist/t10k-labels-idx1-ubyte.gz\n",
      "Downloading https://ossci-datasets.s3.amazonaws.com/mnist/t10k-labels-idx1-ubyte.gz to ./data/MNIST/raw/t10k-labels-idx1-ubyte.gz\n"
     ]
    },
    {
     "name": "stderr",
     "output_type": "stream",
     "text": [
      "100%|██████████| 4542/4542 [00:00<00:00, 1442784.67it/s]\n"
     ]
    },
    {
     "name": "stdout",
     "output_type": "stream",
     "text": [
      "Extracting ./data/MNIST/raw/t10k-labels-idx1-ubyte.gz to ./data/MNIST/raw\n",
      "\n",
      "CPU times: user 1.5 s, sys: 771 ms, total: 2.27 s\n",
      "Wall time: 3.63 s\n"
     ]
    }
   ],
   "source": [
    "%%time\n",
    "ROOT = './data'\n",
    "train_data = datasets.MNIST(root=ROOT, train=True, download=True)\n",
    "test_data = datasets.MNIST(root=ROOT, train=False, download=True)\n",
    "\n",
    "VALID_RATIO = 0.9\n",
    "n_train_examples = int(len(train_data) * VALID_RATIO)\n",
    "n_valid_examples = len(train_data) - n_train_examples\n",
    "\n",
    "train_data, valid_data = random_split(train_data, [n_train_examples, n_valid_examples])\n",
    "\n",
    "mean = train_data.dataset.data.float().mean() / 255\n",
    "std = train_data.dataset.data.float().std() / 255\n",
    "\n",
    "train_transform = transforms.Compose([\n",
    "    transforms.ToTensor(),\n",
    "    transforms.Normalize(mean=[mean], std=[std])\n",
    "])\n",
    "\n",
    "test_transform = transforms.Compose([\n",
    "    transforms.ToTensor(),\n",
    "    transforms.Normalize(mean=[mean], std=[std])\n",
    "])\n",
    "\n",
    "train_data.dataset.transform = train_transform\n",
    "valid_data.dataset.transform = test_transform\n",
    "test_data.transform = test_transform\n",
    "\n",
    "BATCH_SIZE = 256\n",
    "train_loader = DataLoader(train_data, batch_size=BATCH_SIZE, shuffle=True)\n",
    "val_loader = DataLoader(valid_data, batch_size=BATCH_SIZE)\n",
    "test_loader = DataLoader(test_data, batch_size=BATCH_SIZE)"
   ]
  },
  {
   "cell_type": "code",
   "execution_count": 18,
   "metadata": {
    "colab": {
     "base_uri": "https://localhost:8080/"
    },
    "id": "cplhUdbPJTq3",
    "outputId": "dc907e99-b27e-42b7-937c-ae60d83c4e0b"
   },
   "outputs": [
    {
     "data": {
      "text/plain": [
       "(torch.Size([60000, 28, 28]),\n",
       " torch.Size([60000, 28, 28]),\n",
       " torch.Size([10000, 28, 28]))"
      ]
     },
     "execution_count": 18,
     "metadata": {},
     "output_type": "execute_result"
    }
   ],
   "source": [
    "train_data.dataset.data.shape, valid_data.dataset.data.shape, test_data.data.shape"
   ]
  },
  {
   "cell_type": "code",
   "execution_count": 19,
   "metadata": {
    "colab": {
     "base_uri": "https://localhost:8080/"
    },
    "id": "AEUiaPaVJKHr",
    "outputId": "09611da0-21f1-4e5f-fdbc-a77e6c7f8277"
   },
   "outputs": [
    {
     "data": {
      "text/plain": [
       "['0 - zero',\n",
       " '1 - one',\n",
       " '2 - two',\n",
       " '3 - three',\n",
       " '4 - four',\n",
       " '5 - five',\n",
       " '6 - six',\n",
       " '7 - seven',\n",
       " '8 - eight',\n",
       " '9 - nine']"
      ]
     },
     "execution_count": 19,
     "metadata": {},
     "output_type": "execute_result"
    }
   ],
   "source": [
    "train_data.dataset.classes"
   ]
  },
  {
   "cell_type": "code",
   "execution_count": 20,
   "metadata": {
    "id": "52Pa7uc8JYA2"
   },
   "outputs": [],
   "source": [
    "def plot_images(images):\n",
    "    num_images = len(images)\n",
    "    rows = cols = int(np.sqrt(num_images))\n",
    "\n",
    "    fig, axs = plt.subplots(rows, cols, figsize=(10, 10))\n",
    "    for i, ax in enumerate(axs.flatten()):\n",
    "        if i < num_images:\n",
    "            ax.imshow(images[i].squeeze(), cmap='gray')\n",
    "            ax.axis('off')\n",
    "    plt.tight_layout()\n",
    "    plt.show()"
   ]
  },
  {
   "cell_type": "code",
   "execution_count": 21,
   "metadata": {
    "colab": {
     "base_uri": "https://localhost:8080/",
     "height": 1000
    },
    "id": "e-FjJCeBJorZ",
    "outputId": "9b97bb71-94c4-42de-87a2-aeacedb9a8cb"
   },
   "outputs": [
    {
     "data": {
      "image/png": "[encoded data removed]",
      "text/plain": [
       "<Figure size 1000x1000 with 25 Axes>"
      ]
     },
     "metadata": {},
     "output_type": "display_data"
    }
   ],
   "source": [
    "num_images = 25\n",
    "images, labels = next(iter(train_loader))\n",
    "images = images[:num_images]\n",
    "plot_images(images)"
   ]
  },
  {
   "cell_type": "markdown",
   "metadata": {
    "id": "4Ceyxl80ki3N"
   },
   "source": [
    "## Define LeNet"
   ]
  },
  {
   "cell_type": "code",
   "execution_count": 22,
   "metadata": {
    "id": "tVjbq1kZkk8V"
   },
   "outputs": [],
   "source": [
    "class LeNetClassifier(nn.Module):\n",
    "    def __init__(self, num_classes):\n",
    "        super().__init__()\n",
    "        self.conv1 = nn.Conv2d(in_channels=1, out_channels=6, kernel_size=5, padding='same')\n",
    "        self.avgpool1 = nn.AvgPool2d(kernel_size=2)\n",
    "        self.conv2 = nn.Conv2d(in_channels=6, out_channels=16, kernel_size=5)\n",
    "        self.avgpool2 = nn.AvgPool2d(kernel_size=2)\n",
    "        self.flatten = nn.Flatten()\n",
    "        self.fc1 = nn.Linear(16 * 5 * 5, 120)\n",
    "        self.fc2 = nn.Linear(120, 84)\n",
    "        self.fc3 = nn.Linear(84, num_classes)\n",
    "\n",
    "    def forward(self, X):\n",
    "        X = F.relu(self.avgpool1(self.conv1(X)))\n",
    "        X = F.relu(self.avgpool2(self.conv2(X)))\n",
    "        X = self.flatten(X)\n",
    "        X = self.fc1(X)\n",
    "        X = self.fc2(X)\n",
    "        X = self.fc3(X)\n",
    "        return X"
   ]
  },
  {
   "cell_type": "markdown",
   "metadata": {
    "id": "LALA4M3ElwcF"
   },
   "source": [
    "## Training and Evaluation"
   ]
  },
  {
   "cell_type": "code",
   "execution_count": 23,
   "metadata": {
    "id": "yv8FZIFdlya5"
   },
   "outputs": [],
   "source": [
    "def train(model, train_loader, optimizer, criterion, device, epoch=0, log_interval=50):\n",
    "    model.train()\n",
    "    train_acc, count = 0.0, 0\n",
    "    losses = []\n",
    "    start_time = time.time()\n",
    "    for batch_idx, (inputs, labels) in enumerate(train_loader):\n",
    "        inputs, labels = inputs.to(device), labels.to(device)\n",
    "        optimizer.zero_grad()\n",
    "\n",
    "        outputs = model(inputs)\n",
    "        loss = criterion(outputs, labels)\n",
    "        losses.append(loss.item())\n",
    "\n",
    "        loss.backward()\n",
    "        torch.nn.utils.clip_grad_norm_(model.parameters(), 0.1)\n",
    "        optimizer.step()\n",
    "\n",
    "        train_acc += (outputs.argmax(dim=1) == labels).sum().item()\n",
    "        count += len(labels)\n",
    "        if batch_idx % log_interval == 0 and batch_idx > 0:\n",
    "            elapsed = time.time() - start_time\n",
    "            print(f'| epoch {epoch+1:3d} | {batch_idx:5d}/{len(train_loader):d} batches '\n",
    "                f'| accuracy {train_acc/count:8.3f}'\n",
    "            )\n",
    "            train_acc, count = 0.0, 0\n",
    "            start_time = time.time()\n",
    "\n",
    "    epoch_acc = train_acc / count\n",
    "    epoch_loss = np.mean(losses)\n",
    "    return epoch_acc, epoch_loss\n",
    "\n",
    "def evaluate(model, val_loader, criterion, device):\n",
    "    model.eval()\n",
    "    eval_acc, count = 0.0, 0\n",
    "    losses = []\n",
    "    with torch.no_grad():\n",
    "        for inputs, labels in val_loader:\n",
    "            inputs, labels = inputs.to(device), labels.to(device)\n",
    "\n",
    "            outputs = model(inputs)\n",
    "            loss = criterion(outputs, labels)\n",
    "            losses.append(loss.item())\n",
    "\n",
    "            eval_acc += (outputs.argmax(dim=1) == labels).sum().item()\n",
    "            count += len(labels)\n",
    "\n",
    "    epoch_acc = eval_acc / count\n",
    "    epoch_loss = np.mean(losses)\n",
    "    return epoch_acc, epoch_loss"
   ]
  },
  {
   "cell_type": "code",
   "execution_count": 24,
   "metadata": {
    "colab": {
     "base_uri": "https://localhost:8080/"
    },
    "id": "r_HlGoiToMxo",
    "outputId": "e6031bab-1835-4cb0-d8f9-31e53a38e8e5"
   },
   "outputs": [
    {
     "name": "stdout",
     "output_type": "stream",
     "text": [
      "| epoch   1 |    50/211 batches | accuracy    0.656\n",
      "| epoch   1 |   100/211 batches | accuracy    0.883\n",
      "| epoch   1 |   150/211 batches | accuracy    0.919\n",
      "| epoch   1 |   200/211 batches | accuracy    0.941\n",
      "-----------------------------------------------------------\n",
      "| End of epoch   1 | Time: 15.14s | Train Accuracy:    0.948 | Train Loss:    0.490 | Val Accuracy:    0.946 | Val Loss:    0.183 \n",
      "-----------------------------------------------------------\n"
     ]
    },
    {
     "name": "stderr",
     "output_type": "stream",
     "text": [
      "<ipython-input-24-e3c30a91a74a>:41: FutureWarning: You are using `torch.load` with `weights_only=False` (the current default value), which uses the default pickle module implicitly. It is possible to construct malicious pickle data which will execute arbitrary code during unpickling (See https://github.com/pytorch/pytorch/blob/main/SECURITY.md#untrusted-models for more details). In a future release, the default value for `weights_only` will be flipped to `True`. This limits the functions that could be executed during unpickling. Arbitrary objects will no longer be allowed to be loaded via this mode unless they are explicitly allowlisted by the user via `torch.serialization.add_safe_globals`. We recommend you start setting `weights_only=True` for any use case where you don't have full control of the loaded file. Please open an issue on GitHub for any issues related to this experimental feature.\n",
      "  lenet_model.load_state_dict(torch.load(os.path.join(save_model, 'lenet_model_mnist.pt')))\n"
     ]
    },
    {
     "name": "stdout",
     "output_type": "stream",
     "text": [
      "| epoch   2 |    50/211 batches | accuracy    0.955\n",
      "| epoch   2 |   100/211 batches | accuracy    0.962\n",
      "| epoch   2 |   150/211 batches | accuracy    0.963\n",
      "| epoch   2 |   200/211 batches | accuracy    0.966\n",
      "-----------------------------------------------------------\n",
      "| End of epoch   2 | Time: 15.49s | Train Accuracy:    0.963 | Train Loss:    0.126 | Val Accuracy:    0.964 | Val Loss:    0.119 \n",
      "-----------------------------------------------------------\n",
      "| epoch   3 |    50/211 batches | accuracy    0.968\n",
      "| epoch   3 |   100/211 batches | accuracy    0.972\n",
      "| epoch   3 |   150/211 batches | accuracy    0.974\n",
      "| epoch   3 |   200/211 batches | accuracy    0.975\n",
      "-----------------------------------------------------------\n",
      "| End of epoch   3 | Time: 14.78s | Train Accuracy:    0.977 | Train Loss:    0.091 | Val Accuracy:    0.975 | Val Loss:    0.093 \n",
      "-----------------------------------------------------------\n",
      "| epoch   4 |    50/211 batches | accuracy    0.977\n",
      "| epoch   4 |   100/211 batches | accuracy    0.978\n",
      "| epoch   4 |   150/211 batches | accuracy    0.976\n",
      "| epoch   4 |   200/211 batches | accuracy    0.976\n",
      "-----------------------------------------------------------\n",
      "| End of epoch   4 | Time: 13.82s | Train Accuracy:    0.978 | Train Loss:    0.075 | Val Accuracy:    0.976 | Val Loss:    0.079 \n",
      "-----------------------------------------------------------\n",
      "| epoch   5 |    50/211 batches | accuracy    0.981\n",
      "| epoch   5 |   100/211 batches | accuracy    0.979\n",
      "| epoch   5 |   150/211 batches | accuracy    0.981\n",
      "| epoch   5 |   200/211 batches | accuracy    0.980\n",
      "-----------------------------------------------------------\n",
      "| End of epoch   5 | Time: 13.95s | Train Accuracy:    0.978 | Train Loss:    0.064 | Val Accuracy:    0.979 | Val Loss:    0.071 \n",
      "-----------------------------------------------------------\n",
      "| epoch   6 |    50/211 batches | accuracy    0.981\n",
      "| epoch   6 |   100/211 batches | accuracy    0.982\n",
      "| epoch   6 |   150/211 batches | accuracy    0.982\n",
      "| epoch   6 |   200/211 batches | accuracy    0.981\n",
      "-----------------------------------------------------------\n",
      "| End of epoch   6 | Time: 14.40s | Train Accuracy:    0.985 | Train Loss:    0.057 | Val Accuracy:    0.980 | Val Loss:    0.067 \n",
      "-----------------------------------------------------------\n",
      "| epoch   7 |    50/211 batches | accuracy    0.984\n",
      "| epoch   7 |   100/211 batches | accuracy    0.985\n",
      "| epoch   7 |   150/211 batches | accuracy    0.985\n",
      "| epoch   7 |   200/211 batches | accuracy    0.983\n",
      "-----------------------------------------------------------\n",
      "| End of epoch   7 | Time: 13.79s | Train Accuracy:    0.988 | Train Loss:    0.050 | Val Accuracy:    0.977 | Val Loss:    0.071 \n",
      "-----------------------------------------------------------\n",
      "| epoch   8 |    50/211 batches | accuracy    0.987\n",
      "| epoch   8 |   100/211 batches | accuracy    0.982\n",
      "| epoch   8 |   150/211 batches | accuracy    0.986\n",
      "| epoch   8 |   200/211 batches | accuracy    0.983\n",
      "-----------------------------------------------------------\n",
      "| End of epoch   8 | Time: 13.67s | Train Accuracy:    0.984 | Train Loss:    0.050 | Val Accuracy:    0.980 | Val Loss:    0.067 \n",
      "-----------------------------------------------------------\n",
      "| epoch   9 |    50/211 batches | accuracy    0.985\n",
      "| epoch   9 |   100/211 batches | accuracy    0.984\n",
      "| epoch   9 |   150/211 batches | accuracy    0.983\n",
      "| epoch   9 |   200/211 batches | accuracy    0.985\n",
      "-----------------------------------------------------------\n",
      "| End of epoch   9 | Time: 13.91s | Train Accuracy:    0.985 | Train Loss:    0.052 | Val Accuracy:    0.979 | Val Loss:    0.068 \n",
      "-----------------------------------------------------------\n",
      "| epoch  10 |    50/211 batches | accuracy    0.984\n",
      "| epoch  10 |   100/211 batches | accuracy    0.984\n",
      "| epoch  10 |   150/211 batches | accuracy    0.985\n",
      "| epoch  10 |   200/211 batches | accuracy    0.985\n",
      "-----------------------------------------------------------\n",
      "| End of epoch  10 | Time: 14.35s | Train Accuracy:    0.981 | Train Loss:    0.050 | Val Accuracy:    0.980 | Val Loss:    0.070 \n",
      "-----------------------------------------------------------\n"
     ]
    }
   ],
   "source": [
    "device = torch.device('cuda' if torch.cuda.is_available() else 'cpu')\n",
    "num_classes = len(train_data.dataset.classes)\n",
    "\n",
    "lenet_model = LeNetClassifier(num_classes=10).to(device)\n",
    "criterion = nn.CrossEntropyLoss()\n",
    "optimizer = optim.Adam(lenet_model.parameters())\n",
    "\n",
    "epochs = 10\n",
    "save_model = './model'\n",
    "\n",
    "train_accs, train_losses = [], []\n",
    "eval_accs, eval_losses = [], []\n",
    "best_loss_eval = 100\n",
    "\n",
    "for epoch in range(epochs):\n",
    "    epoch_start_time = time.time()\n",
    "\n",
    "    # Training\n",
    "    train_acc, train_loss = train(lenet_model, train_loader, optimizer, criterion, device, epoch)\n",
    "    train_accs.append(train_acc)\n",
    "    train_losses.append(train_loss)\n",
    "\n",
    "    # Evaluation\n",
    "    eval_acc, eval_loss = evaluate(lenet_model, val_loader, criterion, device)\n",
    "    eval_accs.append(eval_acc)\n",
    "    eval_losses.append(eval_loss)\n",
    "\n",
    "    # Save best model\n",
    "    if eval_loss < best_loss_eval:\n",
    "        best_loss_eval = eval_loss\n",
    "        torch.save(lenet_model.state_dict(), os.path.join(save_model, 'lenet_model_mnist.pt'))\n",
    "\n",
    "    print('-' * 59)\n",
    "    print(f'| End of epoch {epoch+1:3d} | Time: {time.time() - epoch_start_time:5.2f}s '\n",
    "        f'| Train Accuracy: {train_acc:8.3f} | Train Loss: {train_loss:8.3f} | '\n",
    "        f'Val Accuracy: {eval_acc:8.3f} | Val Loss: {eval_loss:8.3f} '\n",
    "    )\n",
    "    print('-' * 59)\n",
    "\n",
    "    # Load best model\n",
    "    lenet_model.load_state_dict(torch.load(os.path.join(save_model, 'lenet_model_mnist.pt')))\n",
    "    lenet_model.eval()"
   ]
  },
  {
   "cell_type": "code",
   "execution_count": 25,
   "metadata": {
    "colab": {
     "base_uri": "https://localhost:8080/"
    },
    "id": "mPN7lhwyp-Xd",
    "outputId": "5f41e437-4e80-47a1-d845-e8bb48990067"
   },
   "outputs": [
    {
     "name": "stdout",
     "output_type": "stream",
     "text": [
      "Test Accuracy:    0.985 | Test Loss:    0.049\n"
     ]
    }
   ],
   "source": [
    "test_acc, test_loss = evaluate(lenet_model, test_loader, criterion, device)\n",
    "print(f'Test Accuracy: {test_acc:8.3f} | Test Loss: {test_loss:8.3f}')"
   ]
  },
  {
   "cell_type": "code",
   "execution_count": 34,
   "metadata": {
    "id": "CNChamkNJ8HV"
   },
   "outputs": [],
   "source": [
    "def plot_results(epochs, train_accs, train_losses, eval_accs, eval_losses):\n",
    "    x_range = range(epochs)\n",
    "\n",
    "    plt.figure(figsize=(12, 4))\n",
    "\n",
    "    plt.subplot(1, 2, 1)\n",
    "    plt.plot(x_range, train_losses, 'b', label='Training Loss')\n",
    "    plt.plot(x_range, eval_losses, 'r', label='Validation Loss')\n",
    "    plt.title('Training and Validation Loss')\n",
    "    plt.xlabel('Epochs')\n",
    "    plt.ylabel('Loss')\n",
    "    plt.legend()\n",
    "\n",
    "    plt.subplot(1, 2, 2)\n",
    "    plt.plot(x_range, train_accs, 'b', label='Training Accuracy')\n",
    "    plt.plot(x_range, eval_accs, 'r', label='Validation Accuracy')\n",
    "    plt.title('Training and Validation Accuracy')\n",
    "    plt.xlabel('Epochs')\n",
    "    plt.ylabel('Accuracy')\n",
    "    plt.legend()\n",
    "\n",
    "    plt.tight_layout()\n",
    "    plt.show()"
   ]
  },
  {
   "cell_type": "code",
   "execution_count": 35,
   "metadata": {
    "colab": {
     "base_uri": "https://localhost:8080/",
     "height": 401
    },
    "id": "upVD7NCeKD3M",
    "outputId": "082263c1-fc17-40f1-fac4-2cb5c1108ccb"
   },
   "outputs": [
    {
     "data": {
      "image/png": "[encoded data removed]",
      "text/plain": [
       "<Figure size 1200x400 with 2 Axes>"
      ]
     },
     "metadata": {},
     "output_type": "display_data"
    }
   ],
   "source": [
    "plot_results(epochs, train_accs, train_losses, eval_accs, eval_losses)"
   ]
  }
 ],
 "metadata": {
  "accelerator": "GPU",
  "colab": {
   "gpuType": "T4",
   "provenance": []
  },
  "kernelspec": {
   "display_name": "toan_env",
   "language": "python",
   "name": "python3"
  },
  "language_info": {
   "codemirror_mode": {
    "name": "ipython",
    "version": 3
   },
   "file_extension": ".py",
   "mimetype": "text/x-python",
   "name": "python",
   "nbconvert_exporter": "python",
   "pygments_lexer": "ipython3",
   "version": "3.11.10"
  }
 },
 "nbformat": 4,
 "nbformat_minor": 0
}
